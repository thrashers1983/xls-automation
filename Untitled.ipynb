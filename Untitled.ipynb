{
 "cells": [
  {
   "cell_type": "code",
   "execution_count": 9,
   "metadata": {},
   "outputs": [
    {
     "name": "stdout",
     "output_type": "stream",
     "text": [
      "          name\n",
      "code          \n",
      "1     xiaowang\n",
      "2       xiaoli\n",
      "3     xiaochen\n",
      "Done!\n"
     ]
    }
   ],
   "source": [
    "import pandas as pd\n",
    "new_file = pd.DataFrame({'code': [1, 2, 3], 'name': ['xiaowang', 'xiaoli', 'xiaochen']})\n",
    "new_file = new_file.set_index('code')\n",
    "print(new_file)\n",
    "new_file.to_excel('/Users/admin/Desktop/new_file.xlsx')\n",
    "print('Done!')"
   ]
  },
  {
   "cell_type": "code",
   "execution_count": 19,
   "metadata": {},
   "outputs": [
    {
     "name": "stdout",
     "output_type": "stream",
     "text": [
      "(1294, 22)\n",
      "Index(['日期', '工号', 'Name', 'Section', '日期类型', '异常?', '进出次数\\nfrequency',\n",
      "       '工作时间\\nworkhour', '1次卡', '2次卡', '3次卡', '4次卡', '5次卡', '6次卡', '7次卡',\n",
      "       '8次卡', '9次卡', '10次卡', '11次卡', '12次卡', '13次卡', '14次卡'],\n",
      "      dtype='object')\n",
      "          日期      工号            Name    Section 日期类型  异常?  进出次数\\nfrequency  \\\n",
      "0 2020-04-01  HQ0001  Roland Wallner  Executive  工作日  NaN                0   \n",
      "\n",
      "  工作时间\\nworkhour 1次卡 2次卡  ... 5次卡 6次卡 7次卡 8次卡 9次卡 10次卡 11次卡 12次卡  13次卡  14次卡  \n",
      "0       00:00:00 NaT NaT  ... NaT NaT NaT NaT NaT  NaT  NaN  NaN   NaN   NaN  \n",
      "\n",
      "[1 rows x 22 columns]\n",
      "============================================\n",
      "             日期      工号      Name Section 日期类型  异常?  进出次数\\nfrequency  \\\n",
      "1293 2020-04-30  HQ0078  Hersi Yu      HR  工作日  NaN                4   \n",
      "\n",
      "     工作时间\\nworkhour                 1次卡                 2次卡  ... 5次卡 6次卡 7次卡  \\\n",
      "1293       08:29:00 2020-04-30 08:06:00 2020-04-30 12:11:00  ... NaT NaT NaT   \n",
      "\n",
      "     8次卡 9次卡 10次卡 11次卡 12次卡  13次卡  14次卡  \n",
      "1293 NaT NaT  NaT  NaN  NaN   NaN   NaN  \n",
      "\n",
      "[1 rows x 22 columns]\n"
     ]
    }
   ],
   "source": [
    "apla = pd.read_excel('/Users/admin/Downloads/4/Monthly Attendance Report-HQ 04.XLS', sheet_name = 'Data 04')\n",
    "print(apla.shape)\n",
    "print(apla.columns)\n",
    "print(apla.head(1))\n",
    "print('============================================')\n",
    "print(apla.tail(1))"
   ]
  },
  {
   "cell_type": "code",
   "execution_count": 20,
   "metadata": {},
   "outputs": [
    {
     "name": "stdout",
     "output_type": "stream",
     "text": [
      "Index([2020-04-01 00:00:00,            'HQ0001',    'Roland Wallner',\n",
      "               'Executive',               '工作日',        'Unnamed: 5',\n",
      "                         0,            00:00:00,        'Unnamed: 8',\n",
      "              'Unnamed: 9',       'Unnamed: 10',       'Unnamed: 11',\n",
      "             'Unnamed: 12',       'Unnamed: 13',       'Unnamed: 14',\n",
      "             'Unnamed: 15',       'Unnamed: 16',       'Unnamed: 17',\n",
      "             'Unnamed: 18',       'Unnamed: 19',       'Unnamed: 20',\n",
      "             'Unnamed: 21'],\n",
      "      dtype='object')\n"
     ]
    }
   ],
   "source": [
    "apla = pd.read_excel('/Users/admin/Downloads/4/Monthly Attendance Report-HQ 04.XLS', sheet_name = 'Data 04', header = 1)\n",
    "print(apla.columns)"
   ]
  },
  {
   "cell_type": "code",
   "execution_count": 27,
   "metadata": {},
   "outputs": [
    {
     "name": "stdout",
     "output_type": "stream",
     "text": [
      "Index(['日期', '工号', 'Name', 'Section', '日期类型', '异常?', '进出次数\\nfrequency',\n",
      "       '工作时间\\nworkhour', '1次卡', '2次卡', '3次卡', '4次卡', '5次卡', '6次卡', '7次卡',\n",
      "       '8次卡', '9次卡', '10次卡', '11次卡', '12次卡', '13次卡', '14次卡'],\n",
      "      dtype='object')\n",
      "Index(['工号', 'Name', 'Section', '日期类型', '异常?', '进出次数\\nfrequency',\n",
      "       '工作时间\\nworkhour', '1次卡', '2次卡', '3次卡', '4次卡', '5次卡', '6次卡', '7次卡',\n",
      "       '8次卡', '9次卡', '10次卡', '11次卡', '12次卡', '13次卡', '14次卡'],\n",
      "      dtype='object')\n"
     ]
    }
   ],
   "source": [
    "apla = pd.read_excel('/Users/admin/Downloads/4/Monthly Attendance Report-HQ 04.XLS', sheet_name = 'Data 04', header = None)\n",
    "apla.columns = ['日期', '工号', 'Name', 'Section', '日期类型', '异常?', '进出次数\\nfrequency',\n",
    "       '工作时间\\nworkhour', '1次卡', '2次卡', '3次卡', '4次卡', '5次卡', '6次卡', '7次卡',\n",
    "       '8次卡', '9次卡', '10次卡', '11次卡', '12次卡', '13次卡', '14次卡']\n",
    "print(apla.columns)\n",
    "apla.set_index('日期', inplace = True)\n",
    "print(apla.columns)\n",
    "apla.to_excel('/Users/admin/Desktop/apla.xlsx')"
   ]
  },
  {
   "cell_type": "code",
   "execution_count": 30,
   "metadata": {},
   "outputs": [
    {
     "name": "stdout",
     "output_type": "stream",
     "text": [
      "    工号  Name  Section  日期类型  异常?  进出次数\\nfrequency  工作时间\\nworkhour  1次卡  2次卡  \\\n",
      "日期                                                                            \n",
      "日期  工号  Name  Section  日期类型  异常?  进出次数\\nfrequency  工作时间\\nworkhour  1次卡  2次卡   \n",
      "\n",
      "    3次卡  ...  5次卡  6次卡  7次卡  8次卡  9次卡  10次卡  11次卡  12次卡  13次卡  14次卡  \n",
      "日期       ...                                                         \n",
      "日期  3次卡  ...  5次卡  6次卡  7次卡  8次卡  9次卡  10次卡  11次卡  12次卡  13次卡  14次卡  \n",
      "\n",
      "[1 rows x 21 columns]\n"
     ]
    }
   ],
   "source": [
    "apla = pd.read_excel('/Users/admin/Desktop/apla.xlsx', index_col = '日期')\n",
    "print(apla.head(1))"
   ]
  },
  {
   "cell_type": "code",
   "execution_count": null,
   "metadata": {},
   "outputs": [],
   "source": []
  }
 ],
 "metadata": {
  "kernelspec": {
   "display_name": "Python 3",
   "language": "python",
   "name": "python3"
  },
  "language_info": {
   "codemirror_mode": {
    "name": "ipython",
    "version": 3
   },
   "file_extension": ".py",
   "mimetype": "text/x-python",
   "name": "python",
   "nbconvert_exporter": "python",
   "pygments_lexer": "ipython3",
   "version": "3.8.3"
  }
 },
 "nbformat": 4,
 "nbformat_minor": 4
}
